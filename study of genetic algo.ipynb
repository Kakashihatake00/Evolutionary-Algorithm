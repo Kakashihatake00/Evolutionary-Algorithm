{
 "cells": [
  {
   "cell_type": "code",
   "execution_count": 10,
   "id": "9696af1f",
   "metadata": {},
   "outputs": [
    {
     "name": "stdout",
     "output_type": "stream",
     "text": [
      "Generation0 : Best Solution = 29 (Fitness : 841)\n",
      "Generation1 : Best Solution = 17 (Fitness : 289)\n",
      "Generation2 : Best Solution = 3 (Fitness : 9)\n",
      "Generation3 : Best Solution = 9 (Fitness : 81)\n",
      "Generation4 : Best Solution = 3 (Fitness : 9)\n",
      "Generation5 : Best Solution = 1 (Fitness : 1)\n",
      "Generation6 : Best Solution = 9 (Fitness : 81)\n",
      "Generation7 : Best Solution = 9 (Fitness : 81)\n",
      "Generation8 : Best Solution = 17 (Fitness : 289)\n",
      "Generation9 : Best Solution = 9 (Fitness : 81)\n",
      "Generation10 : Best Solution = 9 (Fitness : 81)\n",
      "Generation11 : Best Solution = 1 (Fitness : 1)\n",
      "Generation12 : Best Solution = 1 (Fitness : 1)\n",
      "Generation13 : Best Solution = 17 (Fitness : 289)\n",
      "Generation14 : Best Solution = 7 (Fitness : 49)\n",
      "Generation15 : Best Solution = 7 (Fitness : 49)\n",
      "Generation16 : Best Solution = 1 (Fitness : 1)\n",
      "Generation17 : Best Solution = 1 (Fitness : 1)\n",
      "Generation18 : Best Solution = 5 (Fitness : 25)\n",
      "Generation19 : Best Solution = 1 (Fitness : 1)\n",
      "Best solution : x = 1, f(x)  = 1\n"
     ]
    }
   ],
   "source": [
    "import random\n",
    "pop_size = 10\n",
    "genes = 5\n",
    "mutation_rate = 0.1\n",
    "generations = 20\n",
    "\n",
    "# Defining fitness function\n",
    "\n",
    "def fitness(x):\n",
    "    return x**2\n",
    "def generate_population(size):\n",
    "    return[random.randint(0,31)for _ in range(size)]\n",
    "def selection(population):\n",
    "    return sorted(population, key = fitness, reverse=True)[:2]\n",
    "def crossover(parent1, parent2):\n",
    "    point = random.randint(1, genes - 1)\n",
    "    mask = (1 << point) - 1\n",
    "    child1 = (parent1 & mask) | (parent2 & mask)\n",
    "    child2 = (parent2 & mask) | (parent1 & mask)\n",
    "    return child1, child2\n",
    "\n",
    "def mutate(individual):\n",
    "    if random.random() < mutation_rate:\n",
    "        bit_pos = 1 << random.randint(0, genes - 1)\n",
    "        individual ^= bit_pos #flip bits\n",
    "    return individual\n",
    "\n",
    "def genetic_algorithm():\n",
    "    population = generate_population(pop_size)\n",
    "\n",
    "    for generation in range(generations):\n",
    "        population = sorted(population, key=fitness , reverse= True)\n",
    "        print(f\"Generation{generation} : Best Solution = {population[0]} (Fitness : {fitness(population[0])})\")\n",
    "\n",
    "        new_population = []\n",
    "        while len(new_population) < pop_size:\n",
    "            parent1, parent2 = selection(population)\n",
    "            child1, child2 = crossover(parent1, parent2)\n",
    "            new_population += [mutate(child1), mutate(child2)]\n",
    "\n",
    "            population = new_population[:pop_size]\n",
    "\n",
    "    best_solution = max(population, key = fitness)\n",
    "    print(f\"Best solution : x = {best_solution}, f(x)  = {fitness(best_solution)}\")\n",
    "\n",
    "\n",
    "genetic_algorithm()\n",
    "\n",
    "\n"
   ]
  }
 ],
 "metadata": {
  "kernelspec": {
   "display_name": "Python 3",
   "language": "python",
   "name": "python3"
  },
  "language_info": {
   "codemirror_mode": {
    "name": "ipython",
    "version": 3
   },
   "file_extension": ".py",
   "mimetype": "text/x-python",
   "name": "python",
   "nbconvert_exporter": "python",
   "pygments_lexer": "ipython3",
   "version": "3.13.2"
  }
 },
 "nbformat": 4,
 "nbformat_minor": 5
}
